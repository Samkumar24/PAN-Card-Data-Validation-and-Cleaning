{
 "cells": [
  {
   "cell_type": "markdown",
   "id": "8d42ede1",
   "metadata": {},
   "source": [
    "<h1 style='color:blue'>Pan Card Validation Using Pandas"
   ]
  },
  {
   "cell_type": "code",
   "execution_count": 1,
   "id": "fa5379f3",
   "metadata": {},
   "outputs": [],
   "source": [
    "import pandas as pd\n",
    "import numpy as np"
   ]
  },
  {
   "cell_type": "code",
   "execution_count": 450,
   "id": "c27f323a",
   "metadata": {},
   "outputs": [],
   "source": [
    "df = pd.read_excel(\"C:\\\\Users\\\\sam\\\\Downloads\\\\PAN+Card+Validation+in+SQL+-+Scripts\\\\PAN Card Validation in SQL - Scripts\\\\PAN Number Validation Dataset.xlsx\")"
   ]
  },
  {
   "cell_type": "code",
   "execution_count": 451,
   "id": "5fbc1d3e",
   "metadata": {},
   "outputs": [
    {
     "data": {
      "text/html": [
       "<div>\n",
       "<style scoped>\n",
       "    .dataframe tbody tr th:only-of-type {\n",
       "        vertical-align: middle;\n",
       "    }\n",
       "\n",
       "    .dataframe tbody tr th {\n",
       "        vertical-align: top;\n",
       "    }\n",
       "\n",
       "    .dataframe thead th {\n",
       "        text-align: right;\n",
       "    }\n",
       "</style>\n",
       "<table border=\"1\" class=\"dataframe\">\n",
       "  <thead>\n",
       "    <tr style=\"text-align: right;\">\n",
       "      <th></th>\n",
       "      <th>Pan_Numbers</th>\n",
       "    </tr>\n",
       "  </thead>\n",
       "  <tbody>\n",
       "    <tr>\n",
       "      <th>0</th>\n",
       "      <td>VGLOD3180G</td>\n",
       "    </tr>\n",
       "    <tr>\n",
       "      <th>1</th>\n",
       "      <td>PHOXD7232L</td>\n",
       "    </tr>\n",
       "    <tr>\n",
       "      <th>2</th>\n",
       "      <td>MGEPH6532A</td>\n",
       "    </tr>\n",
       "    <tr>\n",
       "      <th>3</th>\n",
       "      <td>JJCHK4574O</td>\n",
       "    </tr>\n",
       "    <tr>\n",
       "      <th>4</th>\n",
       "      <td>XTQIJ2330L</td>\n",
       "    </tr>\n",
       "    <tr>\n",
       "      <th>...</th>\n",
       "      <td>...</td>\n",
       "    </tr>\n",
       "    <tr>\n",
       "      <th>9995</th>\n",
       "      <td>TNGUY429!V</td>\n",
       "    </tr>\n",
       "    <tr>\n",
       "      <th>9996</th>\n",
       "      <td>SMMN33673g</td>\n",
       "    </tr>\n",
       "    <tr>\n",
       "      <th>9997</th>\n",
       "      <td>NaN</td>\n",
       "    </tr>\n",
       "    <tr>\n",
       "      <th>9998</th>\n",
       "      <td>RLAI69795t</td>\n",
       "    </tr>\n",
       "    <tr>\n",
       "      <th>9999</th>\n",
       "      <td>YWY2482</td>\n",
       "    </tr>\n",
       "  </tbody>\n",
       "</table>\n",
       "<p>10000 rows × 1 columns</p>\n",
       "</div>"
      ],
      "text/plain": [
       "     Pan_Numbers\n",
       "0     VGLOD3180G\n",
       "1     PHOXD7232L\n",
       "2     MGEPH6532A\n",
       "3     JJCHK4574O\n",
       "4     XTQIJ2330L\n",
       "...          ...\n",
       "9995  TNGUY429!V\n",
       "9996  SMMN33673g\n",
       "9997         NaN\n",
       "9998  RLAI69795t\n",
       "9999     YWY2482\n",
       "\n",
       "[10000 rows x 1 columns]"
      ]
     },
     "execution_count": 451,
     "metadata": {},
     "output_type": "execute_result"
    }
   ],
   "source": [
    "df"
   ]
  },
  {
   "cell_type": "markdown",
   "id": "972cd081",
   "metadata": {},
   "source": [
    "## Identify Missing Data "
   ]
  },
  {
   "cell_type": "code",
   "execution_count": 452,
   "id": "916ea517",
   "metadata": {},
   "outputs": [],
   "source": [
    "df['Pan_Numbers'] = df['Pan_Numbers'].str.strip()"
   ]
  },
  {
   "cell_type": "code",
   "execution_count": 453,
   "id": "01688f70",
   "metadata": {},
   "outputs": [],
   "source": [
    "df_cleaned = df[df['Pan_Numbers'].notna()]"
   ]
  },
  {
   "cell_type": "code",
   "execution_count": 454,
   "id": "a98ab76d",
   "metadata": {},
   "outputs": [
    {
     "name": "stderr",
     "output_type": "stream",
     "text": [
      "C:\\Users\\sam\\AppData\\Local\\Temp\\ipykernel_30160\\1478692626.py:1: SettingWithCopyWarning: \n",
      "A value is trying to be set on a copy of a slice from a DataFrame.\n",
      "Try using .loc[row_indexer,col_indexer] = value instead\n",
      "\n",
      "See the caveats in the documentation: https://pandas.pydata.org/pandas-docs/stable/user_guide/indexing.html#returning-a-view-versus-a-copy\n",
      "  df_cleaned['Pan_Numbers'] = df_cleaned['Pan_Numbers'].str.upper()\n"
     ]
    }
   ],
   "source": [
    "df_cleaned['Pan_Numbers'] = df_cleaned['Pan_Numbers'].str.upper()"
   ]
  },
  {
   "cell_type": "code",
   "execution_count": 455,
   "id": "53359baf",
   "metadata": {},
   "outputs": [],
   "source": [
    "pattern = r'^[A-Z]{5}[0-9]{4}[A-Z]$'\n",
    "valid_pan = df_cleaned[df_cleaned['Pan_Numbers'].str.match(pattern)]\n"
   ]
  },
  {
   "cell_type": "code",
   "execution_count": 456,
   "id": "4319b500",
   "metadata": {},
   "outputs": [
    {
     "data": {
      "text/html": [
       "<div>\n",
       "<style scoped>\n",
       "    .dataframe tbody tr th:only-of-type {\n",
       "        vertical-align: middle;\n",
       "    }\n",
       "\n",
       "    .dataframe tbody tr th {\n",
       "        vertical-align: top;\n",
       "    }\n",
       "\n",
       "    .dataframe thead th {\n",
       "        text-align: right;\n",
       "    }\n",
       "</style>\n",
       "<table border=\"1\" class=\"dataframe\">\n",
       "  <thead>\n",
       "    <tr style=\"text-align: right;\">\n",
       "      <th></th>\n",
       "      <th>Pan_Numbers</th>\n",
       "    </tr>\n",
       "  </thead>\n",
       "  <tbody>\n",
       "    <tr>\n",
       "      <th>0</th>\n",
       "      <td>VGLOD3180G</td>\n",
       "    </tr>\n",
       "    <tr>\n",
       "      <th>1</th>\n",
       "      <td>PHOXD7232L</td>\n",
       "    </tr>\n",
       "    <tr>\n",
       "      <th>2</th>\n",
       "      <td>MGEPH6532A</td>\n",
       "    </tr>\n",
       "    <tr>\n",
       "      <th>3</th>\n",
       "      <td>JJCHK4574O</td>\n",
       "    </tr>\n",
       "    <tr>\n",
       "      <th>4</th>\n",
       "      <td>XTQIJ2330L</td>\n",
       "    </tr>\n",
       "    <tr>\n",
       "      <th>...</th>\n",
       "      <td>...</td>\n",
       "    </tr>\n",
       "    <tr>\n",
       "      <th>4995</th>\n",
       "      <td>ZJWPC0684F</td>\n",
       "    </tr>\n",
       "    <tr>\n",
       "      <th>4996</th>\n",
       "      <td>NSXZF3296V</td>\n",
       "    </tr>\n",
       "    <tr>\n",
       "      <th>4997</th>\n",
       "      <td>APBHZ0717P</td>\n",
       "    </tr>\n",
       "    <tr>\n",
       "      <th>4998</th>\n",
       "      <td>MAYLS1413K</td>\n",
       "    </tr>\n",
       "    <tr>\n",
       "      <th>4999</th>\n",
       "      <td>ZIBLE6050S</td>\n",
       "    </tr>\n",
       "  </tbody>\n",
       "</table>\n",
       "<p>4999 rows × 1 columns</p>\n",
       "</div>"
      ],
      "text/plain": [
       "     Pan_Numbers\n",
       "0     VGLOD3180G\n",
       "1     PHOXD7232L\n",
       "2     MGEPH6532A\n",
       "3     JJCHK4574O\n",
       "4     XTQIJ2330L\n",
       "...          ...\n",
       "4995  ZJWPC0684F\n",
       "4996  NSXZF3296V\n",
       "4997  APBHZ0717P\n",
       "4998  MAYLS1413K\n",
       "4999  ZIBLE6050S\n",
       "\n",
       "[4999 rows x 1 columns]"
      ]
     },
     "execution_count": 456,
     "metadata": {},
     "output_type": "execute_result"
    }
   ],
   "source": [
    "valid_pan"
   ]
  },
  {
   "cell_type": "code",
   "execution_count": 457,
   "id": "5323745c",
   "metadata": {},
   "outputs": [],
   "source": [
    "df_cleaned1 = df_cleaned.drop_duplicates(subset='Pan_Numbers').reset_index()"
   ]
  },
  {
   "cell_type": "code",
   "execution_count": 458,
   "id": "6b75e9d7",
   "metadata": {},
   "outputs": [
    {
     "data": {
      "text/html": [
       "<div>\n",
       "<style scoped>\n",
       "    .dataframe tbody tr th:only-of-type {\n",
       "        vertical-align: middle;\n",
       "    }\n",
       "\n",
       "    .dataframe tbody tr th {\n",
       "        vertical-align: top;\n",
       "    }\n",
       "\n",
       "    .dataframe thead th {\n",
       "        text-align: right;\n",
       "    }\n",
       "</style>\n",
       "<table border=\"1\" class=\"dataframe\">\n",
       "  <thead>\n",
       "    <tr style=\"text-align: right;\">\n",
       "      <th></th>\n",
       "      <th>index</th>\n",
       "      <th>Pan_Numbers</th>\n",
       "    </tr>\n",
       "  </thead>\n",
       "  <tbody>\n",
       "    <tr>\n",
       "      <th>0</th>\n",
       "      <td>0</td>\n",
       "      <td>VGLOD3180G</td>\n",
       "    </tr>\n",
       "    <tr>\n",
       "      <th>1</th>\n",
       "      <td>1</td>\n",
       "      <td>PHOXD7232L</td>\n",
       "    </tr>\n",
       "    <tr>\n",
       "      <th>2</th>\n",
       "      <td>2</td>\n",
       "      <td>MGEPH6532A</td>\n",
       "    </tr>\n",
       "    <tr>\n",
       "      <th>3</th>\n",
       "      <td>3</td>\n",
       "      <td>JJCHK4574O</td>\n",
       "    </tr>\n",
       "    <tr>\n",
       "      <th>4</th>\n",
       "      <td>4</td>\n",
       "      <td>XTQIJ2330L</td>\n",
       "    </tr>\n",
       "    <tr>\n",
       "      <th>...</th>\n",
       "      <td>...</td>\n",
       "      <td>...</td>\n",
       "    </tr>\n",
       "    <tr>\n",
       "      <th>9021</th>\n",
       "      <td>9994</td>\n",
       "      <td>ZMVA03025O</td>\n",
       "    </tr>\n",
       "    <tr>\n",
       "      <th>9022</th>\n",
       "      <td>9995</td>\n",
       "      <td>TNGUY429!V</td>\n",
       "    </tr>\n",
       "    <tr>\n",
       "      <th>9023</th>\n",
       "      <td>9996</td>\n",
       "      <td>SMMN33673G</td>\n",
       "    </tr>\n",
       "    <tr>\n",
       "      <th>9024</th>\n",
       "      <td>9998</td>\n",
       "      <td>RLAI69795T</td>\n",
       "    </tr>\n",
       "    <tr>\n",
       "      <th>9025</th>\n",
       "      <td>9999</td>\n",
       "      <td>YWY2482</td>\n",
       "    </tr>\n",
       "  </tbody>\n",
       "</table>\n",
       "<p>9026 rows × 2 columns</p>\n",
       "</div>"
      ],
      "text/plain": [
       "      index Pan_Numbers\n",
       "0         0  VGLOD3180G\n",
       "1         1  PHOXD7232L\n",
       "2         2  MGEPH6532A\n",
       "3         3  JJCHK4574O\n",
       "4         4  XTQIJ2330L\n",
       "...     ...         ...\n",
       "9021   9994  ZMVA03025O\n",
       "9022   9995  TNGUY429!V\n",
       "9023   9996  SMMN33673G\n",
       "9024   9998  RLAI69795T\n",
       "9025   9999     YWY2482\n",
       "\n",
       "[9026 rows x 2 columns]"
      ]
     },
     "execution_count": 458,
     "metadata": {},
     "output_type": "execute_result"
    }
   ],
   "source": [
    "df_cleaned1"
   ]
  },
  {
   "cell_type": "markdown",
   "id": "a919c0eb",
   "metadata": {},
   "source": [
    "## Adjacent characters(alphabets) cannot be the same (like AABCD is invalid; AXBCD is valid)"
   ]
  },
  {
   "cell_type": "code",
   "execution_count": 459,
   "id": "43169a7d",
   "metadata": {},
   "outputs": [
    {
     "name": "stdout",
     "output_type": "stream",
     "text": [
      "4324\n"
     ]
    }
   ],
   "source": [
    "record1 = []\n",
    "for pan in valid_pan.Pan_Numbers:\n",
    "    i = pan[:5]\n",
    "    state = True\n",
    "    for j in range(len(i)-1):\n",
    "        if (i[j] == i[j+1]):\n",
    "            state = False\n",
    "            break\n",
    "    if state == True:\n",
    "        record1.append(pan)\n",
    "    else:\n",
    "        pass\n",
    "print(len(record1))\n",
    "    \n",
    "            "
   ]
  },
  {
   "cell_type": "markdown",
   "id": "0e1a56e4",
   "metadata": {},
   "source": [
    "## All five characters cannot form a sequence (like: ABCDE, BCDEF is invalid; ABCDX is valid)"
   ]
  },
  {
   "cell_type": "markdown",
   "id": "effef7fa",
   "metadata": {},
   "source": [
    "#### The ord() function in Python is used to get the Unicode code point of a character. Essentially, it converts a character into its corresponding integer value according to the Unicode standard."
   ]
  },
  {
   "cell_type": "code",
   "execution_count": 460,
   "id": "3c98766e",
   "metadata": {},
   "outputs": [
    {
     "name": "stdout",
     "output_type": "stream",
     "text": [
      "4324\n"
     ]
    }
   ],
   "source": [
    "record2 = []\n",
    "for j in record1:\n",
    "    initial = False\n",
    "    first_five = j[0:5]\n",
    "    \n",
    "    if first_five.isalpha():\n",
    "        for i in range(len(first_five)-1):\n",
    "            if ord(first_five[i+1]) - ord(first_five[i]) != 1:\n",
    "                initial = True\n",
    "                break\n",
    "        if initial == True:\n",
    "            record2.append(j)\n",
    "        else:\n",
    "            pass\n",
    "print(len(record2))"
   ]
  },
  {
   "cell_type": "markdown",
   "id": "c46b3270",
   "metadata": {},
   "source": [
    "## Adjacent characters(digits) cannot be the same (like 1123 is invalid; 1923 is valid"
   ]
  },
  {
   "cell_type": "code",
   "execution_count": 461,
   "id": "0af78121",
   "metadata": {},
   "outputs": [
    {
     "name": "stdout",
     "output_type": "stream",
     "text": [
      "3193\n"
     ]
    }
   ],
   "source": [
    "record3 = []\n",
    "for j in record2:\n",
    "    first_four_num_repeating = j[5:9]   # middle 4 characters\n",
    "    \n",
    "    if first_four_num_repeating.isdigit():  # check if all 4 are digits\n",
    "        sequence = False\n",
    "        for i in range(len(first_four_num_repeating)-1):\n",
    "            #print(j,first_four_num_repeating,first_four_num_repeating[i],first_four_num_repeating[i+1])\n",
    "            if (int(first_four_num_repeating[i]) == int(first_four_num_repeating[i+1])):\n",
    "                sequence = True\n",
    "                break\n",
    "        if sequence == False:\n",
    "            record3.append(j)\n",
    "        else:\n",
    "            pass\n",
    "print(len(record3))"
   ]
  },
  {
   "cell_type": "markdown",
   "id": "3df2c376",
   "metadata": {},
   "source": [
    "## All four characters cannot form a sequence (like: 1234, 2345"
   ]
  },
  {
   "cell_type": "code",
   "execution_count": 462,
   "id": "6392ba56",
   "metadata": {},
   "outputs": [
    {
     "name": "stdout",
     "output_type": "stream",
     "text": [
      "3186\n"
     ]
    },
    {
     "data": {
      "text/html": [
       "<div>\n",
       "<style scoped>\n",
       "    .dataframe tbody tr th:only-of-type {\n",
       "        vertical-align: middle;\n",
       "    }\n",
       "\n",
       "    .dataframe tbody tr th {\n",
       "        vertical-align: top;\n",
       "    }\n",
       "\n",
       "    .dataframe thead th {\n",
       "        text-align: right;\n",
       "    }\n",
       "</style>\n",
       "<table border=\"1\" class=\"dataframe\">\n",
       "  <thead>\n",
       "    <tr style=\"text-align: right;\">\n",
       "      <th></th>\n",
       "      <th>Pan_Numbers</th>\n",
       "    </tr>\n",
       "  </thead>\n",
       "  <tbody>\n",
       "    <tr>\n",
       "      <th>0</th>\n",
       "      <td>VGLOD3180G</td>\n",
       "    </tr>\n",
       "    <tr>\n",
       "      <th>1</th>\n",
       "      <td>PHOXD7232L</td>\n",
       "    </tr>\n",
       "    <tr>\n",
       "      <th>2</th>\n",
       "      <td>MGEPH6532A</td>\n",
       "    </tr>\n",
       "    <tr>\n",
       "      <th>3</th>\n",
       "      <td>HTJYM3835H</td>\n",
       "    </tr>\n",
       "    <tr>\n",
       "      <th>4</th>\n",
       "      <td>HVOFE5635Y</td>\n",
       "    </tr>\n",
       "    <tr>\n",
       "      <th>...</th>\n",
       "      <td>...</td>\n",
       "    </tr>\n",
       "    <tr>\n",
       "      <th>3181</th>\n",
       "      <td>ZJWPC0684F</td>\n",
       "    </tr>\n",
       "    <tr>\n",
       "      <th>3182</th>\n",
       "      <td>NSXZF3296V</td>\n",
       "    </tr>\n",
       "    <tr>\n",
       "      <th>3183</th>\n",
       "      <td>APBHZ0717P</td>\n",
       "    </tr>\n",
       "    <tr>\n",
       "      <th>3184</th>\n",
       "      <td>MAYLS1413K</td>\n",
       "    </tr>\n",
       "    <tr>\n",
       "      <th>3185</th>\n",
       "      <td>ZIBLE6050S</td>\n",
       "    </tr>\n",
       "  </tbody>\n",
       "</table>\n",
       "<p>3186 rows × 1 columns</p>\n",
       "</div>"
      ],
      "text/plain": [
       "     Pan_Numbers\n",
       "0     VGLOD3180G\n",
       "1     PHOXD7232L\n",
       "2     MGEPH6532A\n",
       "3     HTJYM3835H\n",
       "4     HVOFE5635Y\n",
       "...          ...\n",
       "3181  ZJWPC0684F\n",
       "3182  NSXZF3296V\n",
       "3183  APBHZ0717P\n",
       "3184  MAYLS1413K\n",
       "3185  ZIBLE6050S\n",
       "\n",
       "[3186 rows x 1 columns]"
      ]
     },
     "execution_count": 462,
     "metadata": {},
     "output_type": "execute_result"
    }
   ],
   "source": [
    "record4 = []\n",
    "for j in record3:\n",
    "    first_four_num = j[5:9]   # middle 4 characters\n",
    "    \n",
    "    if first_four_num.isdigit():  # check if all 4 are digits\n",
    "        is_sequential = True\n",
    "        for i in range(len(first_four_num)-1):\n",
    "            if (int(first_four_num[i+1]) - int(first_four_num[i])) != 1:\n",
    "                is_sequential = False\n",
    "                break\n",
    "        if is_sequential == False:\n",
    "            record4.append(j)\n",
    "        else:\n",
    "            pass\n",
    "print(len(record4))\n",
    "cleaned_pans = pd.DataFrame(data=record4,columns=['Pan_Numbers'])\n",
    "cleaned_pans.reset_index(drop=True, inplace=True)\n",
    "cleaned_pans"
   ]
  },
  {
   "cell_type": "markdown",
   "id": "bff8b8ad",
   "metadata": {},
   "source": [
    "<h1 style='color:Purple'>Cleanded Pan Records"
   ]
  },
  {
   "cell_type": "code",
   "execution_count": null,
   "id": "0d128b05",
   "metadata": {},
   "outputs": [],
   "source": []
  },
  {
   "cell_type": "code",
   "execution_count": 463,
   "id": "c4bde5ff",
   "metadata": {},
   "outputs": [
    {
     "data": {
      "text/html": [
       "<div>\n",
       "<style scoped>\n",
       "    .dataframe tbody tr th:only-of-type {\n",
       "        vertical-align: middle;\n",
       "    }\n",
       "\n",
       "    .dataframe tbody tr th {\n",
       "        vertical-align: top;\n",
       "    }\n",
       "\n",
       "    .dataframe thead th {\n",
       "        text-align: right;\n",
       "    }\n",
       "</style>\n",
       "<table border=\"1\" class=\"dataframe\">\n",
       "  <thead>\n",
       "    <tr style=\"text-align: right;\">\n",
       "      <th></th>\n",
       "      <th>index</th>\n",
       "      <th>Pan_Numbers</th>\n",
       "      <th>Status</th>\n",
       "    </tr>\n",
       "  </thead>\n",
       "  <tbody>\n",
       "    <tr>\n",
       "      <th>0</th>\n",
       "      <td>0</td>\n",
       "      <td>VGLOD3180G</td>\n",
       "      <td>Valid_Pan_card</td>\n",
       "    </tr>\n",
       "    <tr>\n",
       "      <th>1</th>\n",
       "      <td>1</td>\n",
       "      <td>PHOXD7232L</td>\n",
       "      <td>Valid_Pan_card</td>\n",
       "    </tr>\n",
       "    <tr>\n",
       "      <th>2</th>\n",
       "      <td>2</td>\n",
       "      <td>MGEPH6532A</td>\n",
       "      <td>Valid_Pan_card</td>\n",
       "    </tr>\n",
       "    <tr>\n",
       "      <th>3</th>\n",
       "      <td>3</td>\n",
       "      <td>JJCHK4574O</td>\n",
       "      <td>Not_valid</td>\n",
       "    </tr>\n",
       "    <tr>\n",
       "      <th>4</th>\n",
       "      <td>4</td>\n",
       "      <td>XTQIJ2330L</td>\n",
       "      <td>Not_valid</td>\n",
       "    </tr>\n",
       "    <tr>\n",
       "      <th>...</th>\n",
       "      <td>...</td>\n",
       "      <td>...</td>\n",
       "      <td>...</td>\n",
       "    </tr>\n",
       "    <tr>\n",
       "      <th>9021</th>\n",
       "      <td>9994</td>\n",
       "      <td>ZMVA03025O</td>\n",
       "      <td>Not_valid</td>\n",
       "    </tr>\n",
       "    <tr>\n",
       "      <th>9022</th>\n",
       "      <td>9995</td>\n",
       "      <td>TNGUY429!V</td>\n",
       "      <td>Not_valid</td>\n",
       "    </tr>\n",
       "    <tr>\n",
       "      <th>9023</th>\n",
       "      <td>9996</td>\n",
       "      <td>SMMN33673G</td>\n",
       "      <td>Not_valid</td>\n",
       "    </tr>\n",
       "    <tr>\n",
       "      <th>9024</th>\n",
       "      <td>9998</td>\n",
       "      <td>RLAI69795T</td>\n",
       "      <td>Not_valid</td>\n",
       "    </tr>\n",
       "    <tr>\n",
       "      <th>9025</th>\n",
       "      <td>9999</td>\n",
       "      <td>YWY2482</td>\n",
       "      <td>Not_valid</td>\n",
       "    </tr>\n",
       "  </tbody>\n",
       "</table>\n",
       "<p>9026 rows × 3 columns</p>\n",
       "</div>"
      ],
      "text/plain": [
       "      index Pan_Numbers          Status\n",
       "0         0  VGLOD3180G  Valid_Pan_card\n",
       "1         1  PHOXD7232L  Valid_Pan_card\n",
       "2         2  MGEPH6532A  Valid_Pan_card\n",
       "3         3  JJCHK4574O       Not_valid\n",
       "4         4  XTQIJ2330L       Not_valid\n",
       "...     ...         ...             ...\n",
       "9021   9994  ZMVA03025O       Not_valid\n",
       "9022   9995  TNGUY429!V       Not_valid\n",
       "9023   9996  SMMN33673G       Not_valid\n",
       "9024   9998  RLAI69795T       Not_valid\n",
       "9025   9999     YWY2482       Not_valid\n",
       "\n",
       "[9026 rows x 3 columns]"
      ]
     },
     "execution_count": 463,
     "metadata": {},
     "output_type": "execute_result"
    }
   ],
   "source": [
    "df_cleaned1[\"Status\"] = np.where(df_cleaned1.Pan_Numbers.isin(cleaned_pans['Pan_Numbers']),\"Valid_Pan_card\",\"Not_valid\")\n",
    "#df_cleaned1 = df_cleaned1.drop(columns=['index'])\n",
    "df_cleaned1"
   ]
  },
  {
   "cell_type": "code",
   "execution_count": 464,
   "id": "de2c3604",
   "metadata": {},
   "outputs": [
    {
     "data": {
      "text/plain": [
       "<AxesSubplot:>"
      ]
     },
     "execution_count": 464,
     "metadata": {},
     "output_type": "execute_result"
    },
    {
     "data": {
      "image/png": "[encoded data removed]",
      "text/plain": [
       "<Figure size 432x288 with 1 Axes>"
      ]
     },
     "metadata": {
      "needs_background": "light"
     },
     "output_type": "display_data"
    }
   ],
   "source": [
    "df_cleaned1['Status'].value_counts().plot.bar()"
   ]
  },
  {
   "cell_type": "code",
   "execution_count": 465,
   "id": "738be489",
   "metadata": {},
   "outputs": [
    {
     "data": {
      "text/plain": [
       "974"
      ]
     },
     "execution_count": 465,
     "metadata": {},
     "output_type": "execute_result"
    }
   ],
   "source": [
    "missing_records = len(df) - (len(df_cleaned1[df_cleaned1.Status == \n",
    "                                             'Valid_Pan_card']) +   len(df_cleaned1[df_cleaned1.Status == 'Not_valid']))\n",
    "missing_records"
   ]
  },
  {
   "cell_type": "markdown",
   "id": "4cca56b9",
   "metadata": {},
   "source": [
    "## Summary"
   ]
  },
  {
   "cell_type": "code",
   "execution_count": 466,
   "id": "41011966",
   "metadata": {},
   "outputs": [
    {
     "name": "stdout",
     "output_type": "stream",
     "text": [
      "Total Number of Records is 10000\n",
      "Total Number of Valid Pan Card Records is 3186\n",
      "Total Number of In_valid Pan Card Records is 5840\n",
      "Total Number of Missing Records is 974\n"
     ]
    }
   ],
   "source": [
    "print(f\"Total Number of Records is {len(df)}\")\n",
    "print(f\"Total Number of Valid Pan Card Records is {len(df_cleaned1[df_cleaned1.Status == 'Valid_Pan_card'])}\")\n",
    "print(f\"Total Number of In_valid Pan Card Records is {len(df_cleaned1[df_cleaned1.Status == 'Not_valid'])}\")\n",
    "print(f\"Total Number of Missing Records is {missing_records}\")"
   ]
  },
  {
   "cell_type": "code",
   "execution_count": null,
   "id": "c7ffccda",
   "metadata": {},
   "outputs": [],
   "source": []
  }
 ],
 "metadata": {
  "kernelspec": {
   "display_name": "Python 3 (ipykernel)",
   "language": "python",
   "name": "python3"
  },
  "language_info": {
   "codemirror_mode": {
    "name": "ipython",
    "version": 3
   },
   "file_extension": ".py",
   "mimetype": "text/x-python",
   "name": "python",
   "nbconvert_exporter": "python",
   "pygments_lexer": "ipython3",
   "version": "3.9.12"
  }
 },
 "nbformat": 4,
 "nbformat_minor": 5
}
